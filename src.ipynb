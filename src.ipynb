{
 "cells": [
  {
   "cell_type": "markdown",
   "metadata": {},
   "source": [
    "# Sparse Representation Classification (no block)\n"
   ]
  },
  {
   "cell_type": "code",
   "execution_count": 1,
   "metadata": {},
   "outputs": [],
   "source": [
    "import torch\n",
    "from matplotlib import pyplot as plt\n",
    "\n",
    "import dataset\n",
    "from src import src_eval"
   ]
  },
  {
   "cell_type": "code",
   "execution_count": 2,
   "metadata": {},
   "outputs": [],
   "source": [
    "name = \"src\""
   ]
  },
  {
   "cell_type": "code",
   "execution_count": 3,
   "metadata": {
    "collapsed": false,
    "jupyter": {
     "outputs_hidden": false
    },
    "pycharm": {
     "name": "#%%\n"
    }
   },
   "outputs": [
    {
     "name": "stdout",
     "output_type": "stream",
     "text": [
      "cuda\n"
     ]
    }
   ],
   "source": [
    "use_cuda = torch.cuda.is_available()\n",
    "device = torch.device(\"cuda\" if use_cuda else \"cpu\")\n",
    "print(device)"
   ]
  },
  {
   "cell_type": "code",
   "execution_count": 4,
   "metadata": {
    "collapsed": false,
    "jupyter": {
     "outputs_hidden": false
    },
    "pycharm": {
     "name": "#%%\n"
    }
   },
   "outputs": [],
   "source": [
    "train_ds = dataset.train()\n",
    "train_ds = torch.tensor(train_ds, device=device)"
   ]
  },
  {
   "cell_type": "code",
   "execution_count": 5,
   "metadata": {
    "collapsed": false,
    "jupyter": {
     "outputs_hidden": false
    },
    "pycharm": {
     "name": "#%%\n"
    }
   },
   "outputs": [],
   "source": [
    "test_ds = dataset.test()\n",
    "test_ds = torch.tensor(test_ds, device=device)"
   ]
  },
  {
   "cell_type": "code",
   "execution_count": 6,
   "metadata": {
    "collapsed": false,
    "jupyter": {
     "outputs_hidden": false
    },
    "pycharm": {
     "name": "#%%\n"
    }
   },
   "outputs": [
    {
     "name": "stderr",
     "output_type": "stream",
     "text": [
      "100%|██████████| 1200/1200 [12:23<00:00,  1.61it/s]\n"
     ]
    }
   ],
   "source": [
    "accu = src_eval(train_ds, test_ds, device=device)"
   ]
  },
  {
   "cell_type": "code",
   "execution_count": 7,
   "metadata": {
    "collapsed": false,
    "jupyter": {
     "outputs_hidden": false
    },
    "pycharm": {
     "name": "#%%\n"
    }
   },
   "outputs": [
    {
     "data": {
      "image/png": "[encoded data removed]",
      "text/plain": [
       "<Figure size 432x288 with 1 Axes>"
      ]
     },
     "metadata": {
      "needs_background": "light"
     },
     "output_type": "display_data"
    }
   ],
   "source": [
    "plt.bar(range(len(accu)), accu)\n",
    "plt.title(f\"{name}\")\n",
    "plt.savefig(f\"{name}.png\")\n",
    "plt.show()"
   ]
  },
  {
   "cell_type": "code",
   "execution_count": 8,
   "metadata": {
    "collapsed": false,
    "jupyter": {
     "outputs_hidden": false
    },
    "pycharm": {
     "name": "#%%\n"
    }
   },
   "outputs": [
    {
     "data": {
      "text/plain": [
       "0.5457142857142857"
      ]
     },
     "execution_count": 8,
     "metadata": {},
     "output_type": "execute_result"
    }
   ],
   "source": [
    "accu.mean()"
   ]
  },
  {
   "cell_type": "code",
   "execution_count": 9,
   "metadata": {},
   "outputs": [
    {
     "data": {
      "text/plain": [
       "array([0.57142857, 0.85714286, 0.78571429, 0.5       , 0.71428571,\n",
       "       0.71428571, 0.42857143, 0.78571429, 0.64285714, 0.57142857,\n",
       "       0.57142857, 0.71428571, 0.71428571, 0.42857143, 0.5       ,\n",
       "       0.42857143, 0.5       , 0.78571429, 0.71428571, 0.85714286,\n",
       "       0.35714286, 0.35714286, 0.71428571, 0.42857143, 0.28571429,\n",
       "       0.5       , 0.28571429, 0.64285714, 0.5       , 0.35714286,\n",
       "       0.28571429, 0.64285714, 0.64285714, 0.5       , 0.5       ,\n",
       "       0.78571429, 0.5       , 0.57142857, 0.5       , 0.78571429,\n",
       "       0.5       , 0.5       , 0.64285714, 0.64285714, 0.5       ,\n",
       "       0.71428571, 0.5       , 0.21428571, 0.42857143, 0.71428571,\n",
       "       0.57142857, 0.57142857, 0.57142857, 0.5       , 0.42857143,\n",
       "       0.71428571, 0.21428571, 0.42857143, 0.71428571, 0.64285714,\n",
       "       0.85714286, 0.64285714, 0.57142857, 0.64285714, 0.57142857,\n",
       "       0.57142857, 0.35714286, 0.42857143, 0.78571429, 0.71428571,\n",
       "       0.57142857, 0.5       , 0.5       , 0.35714286, 0.28571429,\n",
       "       0.64285714, 0.21428571, 0.5       , 0.57142857, 0.5       ,\n",
       "       0.57142857, 0.28571429, 0.85714286, 0.5       , 0.21428571,\n",
       "       0.42857143, 0.5       , 0.71428571, 0.57142857, 0.5       ,\n",
       "       0.5       , 0.57142857, 0.42857143, 0.71428571, 0.5       ,\n",
       "       0.71428571, 0.28571429, 0.42857143, 0.57142857, 0.28571429])"
      ]
     },
     "execution_count": 9,
     "metadata": {},
     "output_type": "execute_result"
    }
   ],
   "source": [
    "accu"
   ]
  },
  {
   "cell_type": "code",
   "execution_count": null,
   "metadata": {},
   "outputs": [],
   "source": []
  },
  {
   "cell_type": "code",
   "execution_count": null,
   "metadata": {},
   "outputs": [],
   "source": []
  }
 ],
 "metadata": {
  "kernelspec": {
   "display_name": "myconda",
   "language": "python",
   "name": "myconda"
  },
  "language_info": {
   "codemirror_mode": {
    "name": "ipython",
    "version": 3
   },
   "file_extension": ".py",
   "mimetype": "text/x-python",
   "name": "python",
   "nbconvert_exporter": "python",
   "pygments_lexer": "ipython3",
   "version": "3.7.10"
  }
 },
 "nbformat": 4,
 "nbformat_minor": 4
}
